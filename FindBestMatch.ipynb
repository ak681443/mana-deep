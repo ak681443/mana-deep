{
 "metadata": {
  "name": "",
  "signature": "sha256:e35db8f573e3b667786c639a6c02a86cc13c33d102f506586cb2f01de7b20a40"
 },
 "nbformat": 3,
 "nbformat_minor": 0,
 "worksheets": [
  {
   "cells": [
    {
     "cell_type": "code",
     "collapsed": false,
     "input": [
      "from keras.layers import Input, Dense, Convolution2D, MaxPooling2D, UpSampling2D\n",
      "from keras.models import Model\n",
      "from keras.callbacks import TensorBoard\n",
      "from keras.models import model_from_json\n",
      "from keras.models import load_model\n",
      "from keras import regularizers\n",
      "\n",
      "import os\n",
      "from os import listdir\n",
      "from os.path import isfile, join\n",
      "import numpy as np\n",
      "from matplotlib import pyplot as plt\n",
      "import  cv2\n",
      "import scipy.misc\n",
      "from scipy import spatial\n",
      "from PIL import Image\n",
      "import heapq\n",
      "%matplotlib inline"
     ],
     "language": "python",
     "metadata": {},
     "outputs": [
      {
       "output_type": "stream",
       "stream": "stderr",
       "text": [
        "Using TensorFlow backend.\n"
       ]
      }
     ],
     "prompt_number": 1
    },
    {
     "cell_type": "code",
     "collapsed": false,
     "input": [
      "th = 100\n",
      "mul = 2\n",
      "mypath1 = '/home/arvind/MyStuff/Desktop/Manatee_dataset/cleaned_data/train_new/'\n",
      "files1 = [f for f in listdir(mypath1) if isfile(join(mypath1, f))]\n",
      "X_test = []\n",
      "masks = None\n",
      "for filen1 in files1:\n",
      "    img1 = cv2.imread(mypath1+filen1)\n",
      "    img1 = cv2.cvtColor(img1, cv2.COLOR_BGR2GRAY)\n",
      "    img1 = cv2.resize(img1, (int(img1.shape[0] * mul), int(img1.shape[1] * mul)))\n",
      "    img1[img1<th] = 1\n",
      "    img1[img1>=th] = 0\n",
      "    if masks == None:\n",
      "        masks = np.zeros(img1.shape)\n",
      "    masks = masks + img1\n",
      "img1[masks>20] = 0\n",
      "print np.average(masks)\n",
      "plt.imshow(img1)"
     ],
     "language": "python",
     "metadata": {},
     "outputs": [
      {
       "output_type": "stream",
       "stream": "stdout",
       "text": [
        "23.8044732541\n"
       ]
      },
      {
       "output_type": "stream",
       "stream": "stderr",
       "text": [
        "-c:13: FutureWarning: comparison to `None` will result in an elementwise object comparison in the future.\n"
       ]
      },
      {
       "metadata": {},
       "output_type": "pyout",
       "prompt_number": 2,
       "text": [
        "<matplotlib.image.AxesImage at 0x7fad4421ead0>"
       ]
      },
      {
       "metadata": {},
       "output_type": "display_data",
       "png": "[encoded data removed]",
       "text": [
        "<matplotlib.figure.Figure at 0x7fad46f32490>"
       ]
      }
     ],
     "prompt_number": 2
    },
    {
     "cell_type": "code",
     "collapsed": false,
     "input": [
      "masks[masks>50] = 1\n",
      "masks[masks!=1] = 0\n",
      "plt.imshow(masks)"
     ],
     "language": "python",
     "metadata": {},
     "outputs": [
      {
       "metadata": {},
       "output_type": "pyout",
       "prompt_number": 3,
       "text": [
        "<matplotlib.image.AxesImage at 0x7fad44120910>"
       ]
      },
      {
       "metadata": {},
       "output_type": "display_data",
       "png": "[encoded data removed]",
       "text": [
        "<matplotlib.figure.Figure at 0x7fadad71d4d0>"
       ]
      }
     ],
     "prompt_number": 3
    },
    {
     "cell_type": "code",
     "collapsed": false,
     "input": [
      "input_img = Input(shape=(int(img1.shape[0]), int(img1.shape[1]),1))\n",
      "x = Convolution2D(16, 3, 3, activation='relu', border_mode='same', input_shape=(224,224,1))(input_img)\n",
      "x = MaxPooling2D((2, 2), border_mode='same')(x)\n",
      "x = Convolution2D(8, 3, 3, activation='relu', border_mode='same')(x)\n",
      "x = MaxPooling2D((2, 2), border_mode='same')(x)\n",
      "x = Convolution2D(8, 3, 3, activation='relu', border_mode='same', activity_regularizer=regularizers.activity_l1(10e-5))(x)\n",
      "encoded = MaxPooling2D((2, 2), border_mode='same')(x)\n",
      "model = Model(input_img, encoded)\n",
      "model = Model(input_img, encoded)\n",
      "model.compile(loss='binary_crossentropy', optimizer='adagrad')"
     ],
     "language": "python",
     "metadata": {},
     "outputs": [],
     "prompt_number": 4
    },
    {
     "cell_type": "code",
     "collapsed": false,
     "input": [
      "model.load_weights('../allmods/ae_tries_mods/model_right2.h5', by_name=True)"
     ],
     "language": "python",
     "metadata": {},
     "outputs": [],
     "prompt_number": 21
    },
    {
     "cell_type": "code",
     "collapsed": false,
     "input": [
      "def push_pqueue(queue, priority, value):\n",
      "    if len(queue)>10:\n",
      "       heapq.heappushpop(queue, (priority, value))\n",
      "    else:\n",
      "        heapq.heappush(queue, (priority, value))"
     ],
     "language": "python",
     "metadata": {},
     "outputs": [],
     "prompt_number": 22
    },
    {
     "cell_type": "code",
     "collapsed": false,
     "input": [
      "v = 20\n",
      "img = cv2.imread('/home/arvind/MyStuff/Desktop/Manatee_dataset/cleaned_data/test_new/op_U372_A.jpg.tif')\n",
      "img = cv2.cvtColor(img, cv2.COLOR_BGR2GRAY)\n",
      "img = cv2.resize(img, (int(img.shape[0] * mul), int(img.shape[1] * mul)))\n",
      "img[img<th] = v\n",
      "img[masks==1] = 0\n",
      "img[img>=th] = 0\n",
      "X = np.array([img])\n",
      "X = X.astype('float32')#/ float(np.max(X))\n",
      "X = np.reshape(X, (len(X),  int(img.shape[0]), int(img.shape[1]), 1))\n",
      "pred = model.predict(X, verbose=0)[0]\n",
      "plt.imshow(img)\n",
      "plt.show()\n",
      "plt.imshow(np.sum(pred.reshape((int(28 * mul),int(28 * mul),8)), axis=2))"
     ],
     "language": "python",
     "metadata": {},
     "outputs": [
      {
       "metadata": {},
       "output_type": "display_data",
       "png": "[encoded data removed]",
       "text": [
        "<matplotlib.figure.Figure at 0x7fad286ccb10>"
       ]
      },
      {
       "metadata": {},
       "output_type": "pyout",
       "prompt_number": 24,
       "text": [
        "<matplotlib.image.AxesImage at 0x7fad1078a150>"
       ]
      },
      {
       "metadata": {},
       "output_type": "display_data",
       "png": "[encoded data removed]",
       "text": [
        "<matplotlib.figure.Figure at 0x7fad2870eed0>"
       ]
      }
     ],
     "prompt_number": 24
    },
    {
     "cell_type": "code",
     "collapsed": false,
     "input": [
      "mypath1 = '/home/arvind/MyStuff/Desktop/Manatee_dataset/cleaned_data/test_new/'\n",
      "files1 = [f for f in listdir(mypath1) if isfile(join(mypath1, f))]\n",
      "X_test = []\n",
      "for filen1 in files1:\n",
      "    img1 = cv2.imread(mypath1+filen1)\n",
      "    img1 = cv2.cvtColor(img1, cv2.COLOR_BGR2GRAY)\n",
      "    img1 = cv2.resize(img1, (int(img1.shape[0] * mul), int(img1.shape[1] * mul)))\n",
      "    img1[img1<th] = v\n",
      "   # img1[masks==1] = 0\n",
      "    img1[img1>=th] = 0\n",
      "    X_test.append(np.array([img1]))\n",
      "X_test = np.array(X_test).astype('float32')#/ float(np.max(X))\n",
      "X_test = np.reshape(X_test, (len(X_test),  int(img1.shape[0]), int(img1.shape[1]), 1))\n",
      "X_test_pred = model.predict(X_test, verbose=0)"
     ],
     "language": "python",
     "metadata": {},
     "outputs": []
    },
    {
     "cell_type": "code",
     "collapsed": false,
     "input": [
      "mypath1 = '/home/arvind/MyStuff/Desktop/Manatee_dataset/cleaned_data/train_new/'\n",
      "files1 = [f for f in listdir(mypath1) if isfile(join(mypath1, f))]\n",
      "X_train = []\n",
      "for filen1 in files1:\n",
      "    img1 = cv2.imread(mypath1+filen1)\n",
      "    img1 = cv2.cvtColor(img1, cv2.COLOR_BGR2GRAY)\n",
      "    img1 = cv2.resize(img1, (int(img1.shape[0] * mul), int(img1.shape[1] * mul)))\n",
      "    img1[img1<th] = v\n",
      "    #img1[masks==1] = 0\n",
      "    img1[img1>=th] = 0\n",
      "    X_train.append(np.array([img1]))\n",
      "X_train = np.array(X_train).astype('float32')#/ float(np.max(X))\n",
      "X_train = np.reshape(X_train, (len(X_train),   int(img1.shape[0]), int(img1.shape[1]), 1))\n",
      "X_train_pred = model.predict(X_train, verbose=0)"
     ],
     "language": "python",
     "metadata": {},
     "outputs": []
    },
    {
     "cell_type": "code",
     "collapsed": false,
     "input": [
      "mypath1 = '/home/arvind/MyStuff/Desktop/Manatee_dataset/cleaned_data/test_new/'\n",
      "files1 = [f for f in listdir(mypath1) if isfile(join(mypath1, f))]\n",
      "top10_correct = 0\n",
      "top5_correct = 0\n",
      "top1_correct = 0\n",
      "run_count = 0\n",
      "mp = {}\n",
      "for i in np.arange(0, len(files1)):\n",
      "    filen1 = files1[i]\n",
      "    pred = X_test_pred[i]\n",
      "    mypath = '/home/arvind/MyStuff/Desktop/Manatee_dataset/cleaned_data/train_new/'\n",
      "    files = [f for f in listdir(mypath) if isfile(join(mypath, f))]\n",
      "    pqueue = []\n",
      "    count = 0\n",
      "    for j in np.arange(0, len(files)):\n",
      "            filen = files[j]\n",
      "            tpred = X_train_pred[j]\n",
      "            score = 1 - spatial.distance.cosine(tpred.flatten(), pred.flatten())\n",
      "            push_pqueue(pqueue, score, filen)\n",
      "#     print len(files), count\n",
      "   \n",
      "    for top10 in pqueue:\n",
      "        if top10[1].split('_')[1].split('.')[0] == filen1.split('_')[1].split('.')[0]:\n",
      "            top10_correct+=1;\n",
      "            break\n",
      "    for top5 in pqueue[:5]:\n",
      "        if top5[1].split('_')[1].split('.')[0] == filen1.split('_')[1].split('.')[0]:\n",
      "            top5_correct+=1;\n",
      "            break\n",
      "    if pqueue[0][1].split('_')[1].split('.')[0] == filen1.split('_')[1].split('.')[0]:\n",
      "        top1_correct += 1\n",
      "    mp[filen1] = pqueue[0][1]\n",
      "    run_count+=1\n",
      "    #print filen1, max_file, max_confidence"
     ],
     "language": "python",
     "metadata": {},
     "outputs": []
    },
    {
     "cell_type": "code",
     "collapsed": false,
     "input": [
      "top10_correct/float(len(files1))"
     ],
     "language": "python",
     "metadata": {},
     "outputs": []
    },
    {
     "cell_type": "code",
     "collapsed": false,
     "input": [
      "top5_correct/float(len(files1))"
     ],
     "language": "python",
     "metadata": {},
     "outputs": [
      {
       "metadata": {},
       "output_type": "pyout",
       "prompt_number": 15,
       "text": [
        "0.00819672131147541"
       ]
      }
     ],
     "prompt_number": 15
    },
    {
     "cell_type": "code",
     "collapsed": false,
     "input": [
      "top1_correct"
     ],
     "language": "python",
     "metadata": {},
     "outputs": [
      {
       "metadata": {},
       "output_type": "pyout",
       "prompt_number": 16,
       "text": [
        "0"
       ]
      }
     ],
     "prompt_number": 16
    },
    {
     "cell_type": "code",
     "collapsed": false,
     "input": [
      "run_count"
     ],
     "language": "python",
     "metadata": {},
     "outputs": [
      {
       "metadata": {},
       "output_type": "pyout",
       "prompt_number": 46,
       "text": [
        "122"
       ]
      }
     ],
     "prompt_number": 46
    },
    {
     "cell_type": "code",
     "collapsed": false,
     "input": [
      "for i in np.arange(0, len(files)):\n",
      "    pred = X_train_pred[i]\n",
      "    if(np.sum(pred) == 0 and i > 1040):\n",
      "        print 'sacdasvnd'\n",
      "        print i\n",
      "        break"
     ],
     "language": "python",
     "metadata": {},
     "outputs": [],
     "prompt_number": 15
    },
    {
     "cell_type": "code",
     "collapsed": false,
     "input": [
      "print files[722], files[851] , files[1040]"
     ],
     "language": "python",
     "metadata": {},
     "outputs": [
      {
       "output_type": "stream",
       "stream": "stdout",
       "text": [
        "op_U3264.jpg.tif op_U3007.jpg.tif op_U3605.jpg.tif\n"
       ]
      }
     ],
     "prompt_number": 16
    },
    {
     "cell_type": "code",
     "collapsed": false,
     "input": [
      "model.save('/home/arvind/Desktop/model31.h5')"
     ],
     "language": "python",
     "metadata": {},
     "outputs": [],
     "prompt_number": 86
    },
    {
     "cell_type": "code",
     "collapsed": false,
     "input": [
      "model.to_json()"
     ],
     "language": "python",
     "metadata": {},
     "outputs": [
      {
       "metadata": {},
       "output_type": "pyout",
       "prompt_number": 91,
       "text": [
        "'{\"class_name\": \"Model\", \"keras_version\": \"1.2.2\", \"config\": {\"layers\": [{\"class_name\": \"InputLayer\", \"config\": {\"batch_input_shape\": [null, 224, 224, 1], \"input_dtype\": \"float32\", \"sparse\": false, \"name\": \"input_4\"}, \"inbound_nodes\": [], \"name\": \"input_4\"}, {\"class_name\": \"Convolution2D\", \"config\": {\"b_regularizer\": null, \"W_constraint\": null, \"b_constraint\": null, \"name\": \"convolution2d_10\", \"activity_regularizer\": null, \"trainable\": true, \"dim_ordering\": \"tf\", \"nb_col\": 3, \"subsample\": [1, 1], \"init\": \"glorot_uniform\", \"bias\": true, \"nb_filter\": 16, \"input_dtype\": \"float32\", \"border_mode\": \"same\", \"batch_input_shape\": [null, 224, 224, 1], \"W_regularizer\": null, \"activation\": \"relu\", \"nb_row\": 3}, \"inbound_nodes\": [[[\"input_4\", 0, 0]]], \"name\": \"convolution2d_10\"}, {\"class_name\": \"MaxPooling2D\", \"config\": {\"name\": \"maxpooling2d_10\", \"trainable\": true, \"dim_ordering\": \"tf\", \"pool_size\": [2, 2], \"strides\": [2, 2], \"border_mode\": \"same\"}, \"inbound_nodes\": [[[\"convolution2d_10\", 0, 0]]], \"name\": \"maxpooling2d_10\"}, {\"class_name\": \"Convolution2D\", \"config\": {\"W_constraint\": null, \"b_constraint\": null, \"name\": \"convolution2d_11\", \"activity_regularizer\": null, \"trainable\": true, \"dim_ordering\": \"tf\", \"nb_col\": 3, \"subsample\": [1, 1], \"init\": \"glorot_uniform\", \"bias\": true, \"nb_filter\": 8, \"border_mode\": \"same\", \"b_regularizer\": null, \"W_regularizer\": null, \"activation\": \"relu\", \"nb_row\": 3}, \"inbound_nodes\": [[[\"maxpooling2d_10\", 0, 0]]], \"name\": \"convolution2d_11\"}, {\"class_name\": \"MaxPooling2D\", \"config\": {\"name\": \"maxpooling2d_11\", \"trainable\": true, \"dim_ordering\": \"tf\", \"pool_size\": [2, 2], \"strides\": [2, 2], \"border_mode\": \"same\"}, \"inbound_nodes\": [[[\"convolution2d_11\", 0, 0]]], \"name\": \"maxpooling2d_11\"}, {\"class_name\": \"Convolution2D\", \"config\": {\"W_constraint\": null, \"b_constraint\": null, \"name\": \"convolution2d_12\", \"activity_regularizer\": {\"l2\": 0.0, \"name\": \"L1L2Regularizer\", \"l1\": 9.999999747378752e-05}, \"trainable\": true, \"dim_ordering\": \"tf\", \"nb_col\": 3, \"subsample\": [1, 1], \"init\": \"glorot_uniform\", \"bias\": true, \"nb_filter\": 8, \"border_mode\": \"same\", \"b_regularizer\": null, \"W_regularizer\": null, \"activation\": \"relu\", \"nb_row\": 3}, \"inbound_nodes\": [[[\"maxpooling2d_11\", 0, 0]]], \"name\": \"convolution2d_12\"}, {\"class_name\": \"MaxPooling2D\", \"config\": {\"name\": \"maxpooling2d_12\", \"trainable\": true, \"dim_ordering\": \"tf\", \"pool_size\": [2, 2], \"strides\": [2, 2], \"border_mode\": \"same\"}, \"inbound_nodes\": [[[\"convolution2d_12\", 0, 0]]], \"name\": \"maxpooling2d_12\"}], \"input_layers\": [[\"input_4\", 0, 0]], \"output_layers\": [[\"maxpooling2d_12\", 0, 0]], \"name\": \"model_8\"}}'"
       ]
      }
     ],
     "prompt_number": 91
    },
    {
     "cell_type": "code",
     "collapsed": false,
     "input": [
      "def gen_img():\n",
      "    for k in mp.keys():\n",
      "        img = cv2.imread('/home/arvind/MyStuff/Desktop/Manatee_dataset/cleaned_data/test_new/'+k)\n",
      "        img = cv2.cvtColor(img, cv2.COLOR_BGR2GRAY)\n",
      "        img = cv2.resize(img, (int(img.shape[0] * mul), int(img.shape[1] * mul)))\n",
      "        img1 = cv2.imread('/home/arvind/MyStuff/Desktop/Manatee_dataset/cleaned_data/train_new/'+mp[k])\n",
      "        img1 = cv2.cvtColor(img1, cv2.COLOR_BGR2GRAY)\n",
      "        img1 = cv2.resize(img1, (int(img.shape[0] * mul), int(img.shape[1] * mul)))\n",
      "        yield (img, img1)"
     ],
     "language": "python",
     "metadata": {},
     "outputs": [],
     "prompt_number": 86
    },
    {
     "cell_type": "code",
     "collapsed": false,
     "input": [
      "gen = gen_img()"
     ],
     "language": "python",
     "metadata": {},
     "outputs": [],
     "prompt_number": 87
    },
    {
     "cell_type": "code",
     "collapsed": false,
     "input": [
      "for ip in gen:\n",
      "    plt.imshow(ip[0])\n",
      "    plt.show()\n",
      "    plt.imshow(ip[1])\n",
      "    break"
     ],
     "language": "python",
     "metadata": {},
     "outputs": [
      {
       "metadata": {},
       "output_type": "display_data",
       "png": "[encoded data removed]",
       "text": [
        "<matplotlib.figure.Figure at 0x7f2ea80d52d0>"
       ]
      },
      {
       "metadata": {},
       "output_type": "display_data",
       "png": "[encoded data removed]",
       "text": [
        "<matplotlib.figure.Figure at 0x7f2eab666fd0>"
       ]
      }
     ],
     "prompt_number": 92
    },
    {
     "cell_type": "code",
     "collapsed": false,
     "input": [
      "import cv2\n",
      "import numpy as np\n",
      "\n",
      "img = cv2.imread('/home/arvind/MyStuff/Desktop/Manatee_dataset/clean_better/op/op_U3375_A.tif.tif')\n",
      "gray = cv2.cvtColor(img,cv2.COLOR_BGR2GRAY)\n",
      "edges = cv2.Canny(gray,50,150,apertureSize = 3)\n",
      "minLineLength = 70\n",
      "maxLineGap = 10\n",
      "lines = cv2.HoughLinesP(edges,10,np.pi/180,100,minLineLength,maxLineGap)\n",
      "print len(lines)\n",
      "for x1,y1,x2,y2 in lines[0]:\n",
      "    cv2.line(img,(x1,y1),(x2,y2),(0,255,0),2)\n",
      "plt.imshow(img)"
     ],
     "language": "python",
     "metadata": {},
     "outputs": [
      {
       "output_type": "stream",
       "stream": "stdout",
       "text": [
        "2\n"
       ]
      },
      {
       "metadata": {},
       "output_type": "pyout",
       "prompt_number": 91,
       "text": [
        "<matplotlib.image.AxesImage at 0x7faa66d4a4d0>"
       ]
      },
      {
       "metadata": {},
       "output_type": "display_data",
       "png": "[encoded data removed]",
       "text": [
        "<matplotlib.figure.Figure at 0x7faa66dc3c50>"
       ]
      }
     ],
     "prompt_number": 91
    },
    {
     "cell_type": "code",
     "collapsed": false,
     "input": [
      "plt.imshow(edges)"
     ],
     "language": "python",
     "metadata": {},
     "outputs": [
      {
       "metadata": {},
       "output_type": "pyout",
       "prompt_number": 87,
       "text": [
        "<matplotlib.image.AxesImage at 0x7faa66ff4d90>"
       ]
      },
      {
       "metadata": {},
       "output_type": "display_data",
       "png": "[encoded data removed]",
       "text": [
        "<matplotlib.figure.Figure at 0x7faa6817b7d0>"
       ]
      }
     ],
     "prompt_number": 87
    },
    {
     "cell_type": "code",
     "collapsed": false,
     "input": [],
     "language": "python",
     "metadata": {},
     "outputs": []
    }
   ],
   "metadata": {}
  }
 ]
}